{
  "cells": [
    {
      "cell_type": "markdown",
      "metadata": {
        "id": "view-in-github",
        "colab_type": "text"
      },
      "source": [
        "<a href=\"https://colab.research.google.com/github/singhnidh/AgriGuard-A-Smart-Leaf-Disease-Detection-System-Leveraging-Attention-Mechanism-and-Ensemble-Learning/blob/main/Model/2_DATA%20AUGMENTATION%20MODEL/Data_Augmentation_notebook.ipynb\" target=\"_parent\"><img src=\"https://colab.research.google.com/assets/colab-badge.svg\" alt=\"Open In Colab\"/></a>"
      ]
    },
    {
      "cell_type": "code",
      "execution_count": null,
      "metadata": {
        "colab": {
          "base_uri": "https://localhost:8080/"
        },
        "id": "0xNC9YHtVvBt",
        "outputId": "ff6199be-ea88-4479-ea74-a1b115f31976"
      },
      "outputs": [
        {
          "output_type": "stream",
          "name": "stdout",
          "text": [
            "Drive already mounted at /content/drive; to attempt to forcibly remount, call drive.mount(\"/content/drive\", force_remount=True).\n"
          ]
        }
      ],
      "source": [
        "from google.colab import drive\n",
        "drive.mount('/content/drive')\n"
      ]
    },
    {
      "cell_type": "code",
      "execution_count": null,
      "metadata": {
        "id": "IkMl7kE7Y114"
      },
      "outputs": [],
      "source": [
        "from keras.preprocessing.image import ImageDataGenerator\n",
        "from skimage import io\n",
        "import numpy as np\n",
        "import os\n",
        "from PIL import Image"
      ]
    },
    {
      "cell_type": "code",
      "execution_count": null,
      "metadata": {
        "id": "k7nOspFRgYJf"
      },
      "outputs": [],
      "source": [
        "from tensorflow.keras.preprocessing.image import ImageDataGenerator\n",
        "from matplotlib.pyplot import imread, imshow, subplot, show\n",
        "import numpy as np\n",
        "import os\n",
        "from PIL import Image\n",
        "from skimage import io"
      ]
    },
    {
      "cell_type": "code",
      "execution_count": null,
      "metadata": {
        "id": "lOoMuQPCZf9d"
      },
      "outputs": [],
      "source": [
        "datagen = ImageDataGenerator(\n",
        "        featurewise_center=False,\n",
        "        samplewise_center=False,\n",
        "        featurewise_std_normalization=False,\n",
        "        samplewise_std_normalization=False,\n",
        "        zca_whitening=False,\n",
        "#        zca_epsilon=1e-06,\n",
        "        rotation_range=40,\n",
        "        width_shift_range=0.2,\n",
        "        height_shift_range=0.2,\n",
        "#        brightness_range=None,\n",
        "        shear_range=0.2,\n",
        "        zoom_range=0.2,\n",
        "        channel_shift_range=0.0,\n",
        "        fill_mode=\"reflect\",\n",
        "        cval=0.0,\n",
        "        horizontal_flip=True,\n",
        "        vertical_flip=True,\n",
        "        rescale=None,\n",
        "        preprocessing_function=None,\n",
        "        data_format=None,\n",
        "#        validation_split=0.0,\n",
        "#        dtype=None,\n",
        "        )"
      ]
    },
    {
      "cell_type": "code",
      "execution_count": null,
      "metadata": {
        "id": "WmtdbU03ZmBW"
      },
      "outputs": [],
      "source": [
        "image_directory = '/content/drive/MyDrive/ VIT_MT_PROJECT__2/ DATASET/ Train_data/Strawberry healthy/'\n",
        "SIZE = 224\n",
        "dataset = []\n",
        "my_images = os.listdir(image_directory)"
      ]
    },
    {
      "cell_type": "code",
      "execution_count": null,
      "metadata": {
        "id": "_YP-aKZ9tKZ3"
      },
      "outputs": [],
      "source": [
        "for i, image_name in enumerate(my_images):\n",
        "    if ((image_name.split('.')[1] == 'jpg') or (image_name.split('.')[1] == 'JPG')):\n",
        "        image = io.imread(image_directory + image_name)\n",
        "        image = Image.fromarray(image, 'RGB')\n",
        "        image = image.resize((SIZE,SIZE))\n",
        "        dataset.append(np.array(image))\n",
        "\n",
        "x = np.array(dataset)"
      ]
    },
    {
      "cell_type": "code",
      "execution_count": null,
      "metadata": {
        "id": "_iSqXtde5Qiv"
      },
      "outputs": [],
      "source": [
        "import os\n",
        "\n",
        "save_directory = '/content/drive/MyDrive/ VIT_MT_PROJECT__2/ DATASET/Test_data/Strawberry healthy/'\n",
        "\n",
        "# Create the directory if it does not exist\n",
        "os.makedirs(save_directory, exist_ok=True)\n"
      ]
    },
    {
      "cell_type": "code",
      "execution_count": null,
      "metadata": {
        "colab": {
          "base_uri": "https://localhost:8080/"
        },
        "id": "kRBNWk2P5Ujy",
        "outputId": "df319129-0845-4ed4-d36e-76436d4cc49c"
      },
      "outputs": [
        {
          "output_type": "stream",
          "name": "stdout",
          "text": [
            "1000 images are generated\n"
          ]
        }
      ],
      "source": [
        "import os\n",
        "\n",
        "# Assuming SIZE is defined somewhere before this code snippet\n",
        "SIZE = 224\n",
        "\n",
        "dataset = []\n",
        "\n",
        "for i, image_name in enumerate(my_images):\n",
        "    if image_name.lower().endswith(('jpg', 'jpeg')):\n",
        "        image = io.imread(image_directory + image_name)\n",
        "        image = Image.fromarray(image, 'RGB')\n",
        "        image = image.resize((SIZE, SIZE))\n",
        "        dataset.append(np.array(image))\n",
        "\n",
        "x = np.array(dataset)\n",
        "\n",
        "if x.shape[0] == 0:\n",
        "    print(\"No valid images found in the specified directory.\")\n",
        "else:\n",
        "    save_directory = '/content/drive/MyDrive/ VIT_MT_PROJECT__2/ DATASET/Test_data/Strawberry healthy/'\n",
        "\n",
        "    # Create the directory if it does not exist\n",
        "    os.makedirs(save_directory, exist_ok=True)\n",
        "\n",
        "    batch_size = 20\n",
        "    num_of_count = 50\n",
        "    num_of_images = batch_size * num_of_count\n",
        "\n",
        "    count = 1\n",
        "    for batch in datagen.flow(x, batch_size=10, save_to_dir=save_directory,\n",
        "                              save_prefix='aug', save_format='jpg'):\n",
        "        count += 1\n",
        "        if count > num_of_count:\n",
        "            break\n",
        "\n",
        "    print(\"%d images are generated\" % num_of_images)\n"
      ]
    },
    {
      "cell_type": "code",
      "execution_count": null,
      "metadata": {
        "id": "ea0rGU5c6atZ"
      },
      "outputs": [],
      "source": []
    }
  ],
  "metadata": {
    "colab": {
      "provenance": [],
      "include_colab_link": true
    },
    "kernelspec": {
      "display_name": "Python 3",
      "name": "python3"
    },
    "language_info": {
      "name": "python"
    }
  },
  "nbformat": 4,
  "nbformat_minor": 0
}